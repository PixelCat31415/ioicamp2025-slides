{
 "cells": [
  {
   "cell_type": "markdown",
   "metadata": {},
   "source": [
    "### Graph building with segtree"
   ]
  },
  {
   "cell_type": "code",
   "execution_count": 59,
   "metadata": {},
   "outputs": [],
   "source": [
    "def draw_segtree(id, l, r, dep, nodes, edges, ok=None):\n",
    "    W = 0.7\n",
    "    node_type = \"ndblue\" if l == r else \"ndwhite\"\n",
    "    if ok is not None and id not in ok:\n",
    "        node_type = \"ndgray\"\n",
    "    nodes.append(fr\"\\node[seg, {node_type}, minimum height={(r - l + 1) * W - 0.2:.1f}cm] (nd-{id}) at ({dep}, {-l * W:.1f}) {{{l if l == r else \"\"}}};\")\n",
    "    if l == r:\n",
    "        return\n",
    "    m = (l + r) // 2\n",
    "    lid = id * 2 + 1\n",
    "    rid = id * 2 + 2\n",
    "    draw_segtree(lid, l, m, dep + 1, nodes, edges, ok)\n",
    "    draw_segtree(rid, m + 1, r, dep + 1, nodes, edges, ok)\n",
    "    edges.append(fr\"\\draw[arrow, {\"blue\" if ok is None or (id in ok and lid in ok) else \"gray\"}] (nd-{id}) -- (nd-{lid});\")\n",
    "    edges.append(fr\"\\draw[arrow, {\"blue\" if ok is None or (id in ok and lid in ok) else \"gray\"}] (nd-{id}) -- (nd-{rid});\")\n"
   ]
  },
  {
   "cell_type": "code",
   "execution_count": 55,
   "metadata": {},
   "outputs": [],
   "source": [
    "nodes, edges = [], []\n",
    "draw_segtree(0, 1, 8, 0, nodes, edges)\n",
    "# print(\"\\n\".join(nodes))\n",
    "# print(\"\\n\".join(edges))"
   ]
  },
  {
   "cell_type": "code",
   "execution_count": 2,
   "metadata": {},
   "outputs": [],
   "source": [
    "nodes, edges = [], []\n",
    "# ok = [2, 4, 5, 6, 9, 10, 11, 12, 13, 14]\n",
    "ok = [2, 4, 5, 6, 8, 9, 10, 11, 12, 13, 14]\n",
    "draw_segtree(0, 1, 8, 0, nodes, edges, ok)\n",
    "# print(\"\".join(nodes))\n",
    "# print(\"\".join(edges))"
   ]
  },
  {
   "cell_type": "code",
   "execution_count": 5,
   "metadata": {},
   "outputs": [],
   "source": [
    "# the reversed version\n",
    "\n",
    "def draw_segtree(id, l, r, dep, nodes, edges, ok=None):\n",
    "    W = 0.7\n",
    "    node_type = \"ndblue\" if l == r else \"ndwhite\"\n",
    "    if ok is not None and id not in ok:\n",
    "        node_type = \"ndgray\"\n",
    "    nodes.append(fr\"\\node[seg, {node_type}, minimum height={(r - l + 1) * W - 0.2:.1f}cm] (nd-{id}) at ({dep}, {-l * W:.1f}) {{{l if l == r else \"\"}}};\")\n",
    "    if l == r:\n",
    "        return\n",
    "    m = (l + r) // 2\n",
    "    lid = id * 2 + 1\n",
    "    rid = id * 2 + 2\n",
    "    draw_segtree(lid, l, m, dep + 1, nodes, edges, ok)\n",
    "    draw_segtree(rid, m + 1, r, dep + 1, nodes, edges, ok)\n",
    "    edges.append(fr\"\\draw[arrow, {\"blue\" if ok is None or (id in ok and lid in ok) else \"gray\"}] (nd-{lid}) -- (nd-{id});\")\n",
    "    edges.append(fr\"\\draw[arrow, {\"blue\" if ok is None or (id in ok and lid in ok) else \"gray\"}] (nd-{rid}) -- (nd-{id});\")\n",
    "\n",
    "nodes, edges = [], []\n",
    "ok = [2, 4, 5, 6, 8, 9, 10, 11, 12, 13, 14]\n",
    "draw_segtree(0, 1, 8, 0, nodes, edges, ok)\n",
    "# print(\"\".join(nodes))\n",
    "# print(\"\".join(edges))"
   ]
  }
 ],
 "metadata": {
  "kernelspec": {
   "display_name": "html",
   "language": "python",
   "name": "python3"
  },
  "language_info": {
   "codemirror_mode": {
    "name": "ipython",
    "version": 3
   },
   "file_extension": ".py",
   "mimetype": "text/x-python",
   "name": "python",
   "nbconvert_exporter": "python",
   "pygments_lexer": "ipython3",
   "version": "3.12.4"
  }
 },
 "nbformat": 4,
 "nbformat_minor": 2
}
