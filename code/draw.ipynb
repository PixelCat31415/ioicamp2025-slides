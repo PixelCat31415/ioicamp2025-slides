{
 "cells": [
  {
   "cell_type": "markdown",
   "metadata": {},
   "source": [
    "### Graph building with segtree"
   ]
  },
  {
   "cell_type": "code",
   "execution_count": 59,
   "metadata": {},
   "outputs": [],
   "source": [
    "def draw_segtree(id, l, r, dep, nodes, edges, ok=None):\n",
    "    W = 0.7\n",
    "    node_type = \"ndblue\" if l == r else \"ndwhite\"\n",
    "    if ok is not None and id not in ok:\n",
    "        node_type = \"ndgray\"\n",
    "    nodes.append(fr\"\\node[seg, {node_type}, minimum height={(r - l + 1) * W - 0.2:.1f}cm] (nd-{id}) at ({dep}, {-l * W:.1f}) {{{l if l == r else \"\"}}};\")\n",
    "    if l == r:\n",
    "        return\n",
    "    m = (l + r) // 2\n",
    "    lid = id * 2 + 1\n",
    "    rid = id * 2 + 2\n",
    "    draw_segtree(lid, l, m, dep + 1, nodes, edges, ok)\n",
    "    draw_segtree(rid, m + 1, r, dep + 1, nodes, edges, ok)\n",
    "    edges.append(fr\"\\draw[arrow, {\"blue\" if ok is None or (id in ok and lid in ok) else \"gray\"}] (nd-{id}) -- (nd-{lid});\")\n",
    "    edges.append(fr\"\\draw[arrow, {\"blue\" if ok is None or (id in ok and lid in ok) else \"gray\"}] (nd-{id}) -- (nd-{rid});\")\n"
   ]
  },
  {
   "cell_type": "code",
   "execution_count": 55,
   "metadata": {},
   "outputs": [],
   "source": [
    "nodes, edges = [], []\n",
    "draw_segtree(0, 1, 8, 0, nodes, edges)\n",
    "# print(\"\\n\".join(nodes))\n",
    "# print(\"\\n\".join(edges))"
   ]
  },
  {
   "cell_type": "code",
   "execution_count": 62,
   "metadata": {},
   "outputs": [
    {
     "name": "stdout",
     "output_type": "stream",
     "text": [
      "\\node[seg, ndgray, minimum height=5.4cm] (nd-0) at (0, -0.7) {};\\node[seg, ndgray, minimum height=2.6cm] (nd-1) at (1, -0.7) {};\\node[seg, ndgray, minimum height=1.2cm] (nd-3) at (2, -0.7) {};\\node[seg, ndgray, minimum height=0.5cm] (nd-7) at (3, -0.7) {1};\\node[seg, ndblue, minimum height=0.5cm] (nd-8) at (3, -1.4) {2};\\node[seg, ndwhite, minimum height=1.2cm] (nd-4) at (2, -2.1) {};\\node[seg, ndblue, minimum height=0.5cm] (nd-9) at (3, -2.1) {3};\\node[seg, ndblue, minimum height=0.5cm] (nd-10) at (3, -2.8) {4};\\node[seg, ndwhite, minimum height=2.6cm] (nd-2) at (1, -3.5) {};\\node[seg, ndwhite, minimum height=1.2cm] (nd-5) at (2, -3.5) {};\\node[seg, ndblue, minimum height=0.5cm] (nd-11) at (3, -3.5) {5};\\node[seg, ndblue, minimum height=0.5cm] (nd-12) at (3, -4.2) {6};\\node[seg, ndwhite, minimum height=1.2cm] (nd-6) at (2, -4.9) {};\\node[seg, ndblue, minimum height=0.5cm] (nd-13) at (3, -4.9) {7};\\node[seg, ndblue, minimum height=0.5cm] (nd-14) at (3, -5.6) {8};\n",
      "\\draw[arrow, gray] (nd-3) -- (nd-7);\\draw[arrow, gray] (nd-3) -- (nd-8);\\draw[arrow, blue] (nd-4) -- (nd-9);\\draw[arrow, blue] (nd-4) -- (nd-10);\\draw[arrow, gray] (nd-1) -- (nd-3);\\draw[arrow, gray] (nd-1) -- (nd-4);\\draw[arrow, blue] (nd-5) -- (nd-11);\\draw[arrow, blue] (nd-5) -- (nd-12);\\draw[arrow, blue] (nd-6) -- (nd-13);\\draw[arrow, blue] (nd-6) -- (nd-14);\\draw[arrow, blue] (nd-2) -- (nd-5);\\draw[arrow, blue] (nd-2) -- (nd-6);\\draw[arrow, gray] (nd-0) -- (nd-1);\\draw[arrow, gray] (nd-0) -- (nd-2);\n"
     ]
    }
   ],
   "source": [
    "nodes, edges = [], []\n",
    "# ok = [2, 4, 5, 6, 9, 10, 11, 12, 13, 14]\n",
    "ok = [2, 4, 5, 6, 8, 9, 10, 11, 12, 13, 14]\n",
    "draw_segtree(0, 1, 8, 0, nodes, edges, ok)\n",
    "print(\"\".join(nodes))\n",
    "print(\"\".join(edges))"
   ]
  }
 ],
 "metadata": {
  "kernelspec": {
   "display_name": "html",
   "language": "python",
   "name": "python3"
  },
  "language_info": {
   "codemirror_mode": {
    "name": "ipython",
    "version": 3
   },
   "file_extension": ".py",
   "mimetype": "text/x-python",
   "name": "python",
   "nbconvert_exporter": "python",
   "pygments_lexer": "ipython3",
   "version": "3.12.4"
  }
 },
 "nbformat": 4,
 "nbformat_minor": 2
}
